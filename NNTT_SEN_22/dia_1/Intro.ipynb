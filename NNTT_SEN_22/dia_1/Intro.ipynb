{
 "cells": [
  {
   "cell_type": "markdown",
   "metadata": {
    "pycharm": {
     "name": "#%% md\n"
    }
   },
   "source": [
    "# Sesión 2"
   ]
  },
  {
   "cell_type": "markdown",
   "metadata": {
    "pycharm": {
     "name": "#%% md\n"
    }
   },
   "source": [
    "## Intro: ¿Qué es un script? ¿qué es ejecutar?\n",
    "\n",
    "Un script es un conjunto de instrucciones que damos al ordenador. Los ordenadores están basados en la [máquina de Turing](https://es.wikipedia.org/wiki/Máquina_de_Turing). Imaginémonos un ordenador como un lector de una cinta. En la cinta hay una serie de instrucciones que se leen hacia adelante. Según lo que el lector encuentre en una posición de la cinta realizará una acción determinada.\n",
    "\n",
    "En este ejemplo el script es la cinta que le damos a la máquina. Nosotros escribiremos una serie de instrucciones y la máquina las irá leyendo en orden.\n",
    "Por ejemplo imaginémonos que queremos que nuestro ordenador haga una tortilla de patatas. Para ello hay que indicarle las instrucciones a realizar. \n",
    "\n",
    "\n",
    "```\n",
    "1.-Pelamos las patatas\n",
    "2.-Cortamos las patatas en rodajas\n",
    "3.-Pelamos la cebolla\n",
    "4.-Cortamos la cebolla\n",
    "5.-Calentamos aceite en una sarten\n",
    "6.-Añadimos la patata y la cebolla\n",
    "7.-Rehogamos la patata y la cebolla\n",
    "8.-Batimos el huevo\n",
    "9.-Añadimos el huevo\n",
    "10.-Cuajamos un lado de la tortilla\n",
    "11.-Le damos la vuelta\n",
    "12.-Cuajamos la tortilla por el otro lado\n",
    "13.-Finalizamos la tortilla\n",
    "```\n",
    "\n",
    "\n",
    "Nuestro script para hacer la tortilla se ejecuta línea a línea desde arriba hasta abajo. Ejecutar es sinónimo de llevar a cabo lo que dice la línea. Por ejemplo ejecutar la línea 8 significa que el ordenador realice la orden de batir huevos. Si lo ejecutamos en un orden incorrecto es posible que no funcione.\n",
    "\n",
    "Dentro del notebook de python el script está dividido en chunks o fragmentos que se ejecutan de forma independiente. Sin embargo, si declaro una variable en un fragmento, dicha variable se guarda en la memoria del ordenador para dicho script dentro de la misma sesión. Por ejemplo, si declaramos que la variable `ciudad = Murcia` cuando más adelante volvemos a declarar la variable ciudad, en la memoria del ordenador seguirá siendo Murcia.  También como podréis comprobar al leer este texto incluye fragmentos en los que se puede escribir texto.\n",
    "\n",
    "**¿Cómo ejecutar en un notebook de jupyter?** \n",
    "\n",
    "Para ejecutar un fragmento lo más fácil es primero clickar sobre el fragmento y posteriormente clickar sobre el símbolo de play en el menú superior, junto al que pone `Run`. Otra opción es clickar sobre el fragmento que queremos ejecutar y darle a `ctrl + intro` en windows o `command + intro` en mac.\n",
    "\n",
    "**¿Cómo crear un nuevo fragmento en el script?**\n",
    "\n",
    "Hacemos clic en el fragmento tras el cual queremos añadir un nuevo fragmento y hacemos clic en el símbolo `+` que aparece en el menú superior (donde se encuentra el botón de `Run`)"
   ]
  },
  {
   "cell_type": "markdown",
   "metadata": {
    "pycharm": {
     "name": "#%% md\n"
    }
   },
   "source": [
    "## Tipos de elementos"
   ]
  },
  {
   "cell_type": "markdown",
   "metadata": {
    "pycharm": {
     "name": "#%% md\n"
    }
   },
   "source": [
    "En Python se pueden declarar variables. Las variables son la estructura básica. Podemos asignar cualquier objeto a una variable. Por ejemplo, podemos asignar a la variable `a` el número 5 y a `b` el número 6"
   ]
  },
  {
   "cell_type": "code",
   "execution_count": 1,
   "metadata": {
    "pycharm": {
     "name": "#%%\n"
    }
   },
   "outputs": [],
   "source": [
    "# Declaramos A\n",
    "a = 5\n",
    "# Declaramos B\n",
    "b = 6"
   ]
  },
  {
   "cell_type": "code",
   "execution_count": 2,
   "metadata": {
    "pycharm": {
     "name": "#%%\n"
    }
   },
   "outputs": [
    {
     "data": {
      "text/plain": "5"
     },
     "execution_count": 2,
     "metadata": {},
     "output_type": "execute_result"
    }
   ],
   "source": [
    "# Si declaramos la variable a, obtenemos de nuevo el valor que le hemos dado a la variable\n",
    "a"
   ]
  },
  {
   "cell_type": "markdown",
   "metadata": {
    "pycharm": {
     "name": "#%% md\n"
    }
   },
   "source": [
    "Como habéis podido comprobar dentro de un fragmento de un notebook de Python se puede escribir código y también escribir algunos mensajes para quien esté leyendo el código. Suele ser una buena práctica a la hora de escribir código comentar el código. Esto lo podemos realizar poniendo al principio de la línea el símbolo `#` (junto al número `3` en el teclado). Si deseáis que el comentario ocupe varias líneas pueden comentarse con la almohadilla cada una de las líneas o bien introducir triples comillas (3 veces `\"`)\n"
   ]
  },
  {
   "cell_type": "code",
   "execution_count": 4,
   "outputs": [
    {
     "data": {
      "text/plain": "'\\nEste es un comentario más largo que\\nrequiere cierto conocimiento\\n'"
     },
     "execution_count": 4,
     "metadata": {},
     "output_type": "execute_result"
    }
   ],
   "source": [
    "# Este es un comentario corto\n",
    "\n",
    "\"\"\"\n",
    "Este es un comentario más largo que\n",
    "requiere cierto conocimiento\n",
    "\"\"\"\n",
    "\n",
    "# Así también se podría realizar un comentario\n",
    "# algo más largo"
   ],
   "metadata": {
    "collapsed": false,
    "pycharm": {
     "name": "#%%\n"
    }
   }
  },
  {
   "cell_type": "markdown",
   "source": [
    "Existen una serie de reglas de estilo a la hora de escribir código en Python. Las últimas y más seguidas son las denominadas [PEP-8](https://peps.python.org/pep-0008/), que os aconsejo consultar."
   ],
   "metadata": {
    "collapsed": false,
    "pycharm": {
     "name": "#%% md\n"
    }
   }
  },
  {
   "cell_type": "markdown",
   "source": [
    "Volviendo al tema de los elementos básicos, son del siguiente tipo:\n",
    "* Integers: Aquellos números enteros, por ejemplo 1\n",
    "* Float: números decimales, por ejemplo 1.5\n",
    "* String: conjuntos de letras. Es necesario que cada vez que lo declaremos empecemos con comillas `\"`\n",
    "* Tuplas: son conjuntos de elementos. Por ejemplo el 1 y el 5, o puede ser las palabras \"manzana\" y \"pera\". Se caracterizan porque el orden no puede alterarse\n",
    "* Listas: conjuntos de elementos, al igual que las listas, pero puede alterarse su orden. Se llaman mediante el símbolo `[`\n",
    "* Diccionarios: conjuntos de elementos que tienen una clave y un valor. Se declaran mediante el símbolo `{`"
   ],
   "metadata": {
    "collapsed": false,
    "pycharm": {
     "name": "#%% md\n"
    }
   }
  },
  {
   "cell_type": "code",
   "execution_count": 149,
   "metadata": {
    "pycharm": {
     "name": "#%%\n"
    }
   },
   "outputs": [
    {
     "data": {
      "text/plain": [
       "int"
      ]
     },
     "execution_count": 149,
     "metadata": {},
     "output_type": "execute_result"
    }
   ],
   "source": [
    "# Para conocer de qué tipo es una variable podemos usar la función type()\n",
    "\n",
    "type(a)"
   ]
  },
  {
   "cell_type": "markdown",
   "metadata": {
    "pycharm": {
     "name": "#%% md\n"
    }
   },
   "source": [
    "### Integers"
   ]
  },
  {
   "cell_type": "markdown",
   "metadata": {
    "pycharm": {
     "name": "#%% md\n"
    }
   },
   "source": [
    "Los integers son básicamente cualquier número entero. Tienen las mismas propiedades de estos y pueden hacer cualquier operación que estos realicen. Los integers, al igual que los números enteros, pueden tomar valores positivos o negativos, se pueden sumar, restar, multiplicar, dividir, hacer raíces cuadradas..."
   ]
  },
  {
   "cell_type": "code",
   "execution_count": 4,
   "metadata": {
    "pycharm": {
     "name": "#%%\n"
    }
   },
   "outputs": [
    {
     "data": {
      "text/plain": [
       "1"
      ]
     },
     "execution_count": 4,
     "metadata": {},
     "output_type": "execute_result"
    }
   ],
   "source": [
    "# Declaramos un integer\n",
    "1"
   ]
  },
  {
   "cell_type": "code",
   "execution_count": 105,
   "metadata": {
    "pycharm": {
     "name": "#%%\n"
    }
   },
   "outputs": [
    {
     "data": {
      "text/plain": [
       "3"
      ]
     },
     "execution_count": 105,
     "metadata": {},
     "output_type": "execute_result"
    }
   ],
   "source": [
    "# Guardamos variables\n",
    "\n",
    "uno = 1\n",
    "dos = 2\n",
    "\n",
    "# Podemos sumarlos\n",
    "\n",
    "uno + dos"
   ]
  },
  {
   "cell_type": "code",
   "execution_count": 106,
   "metadata": {
    "pycharm": {
     "name": "#%%\n"
    }
   },
   "outputs": [
    {
     "data": {
      "text/plain": [
       "2"
      ]
     },
     "execution_count": 106,
     "metadata": {},
     "output_type": "execute_result"
    }
   ],
   "source": [
    "# Podemos multiplicarlos \n",
    "\n",
    "uno * dos"
   ]
  },
  {
   "cell_type": "code",
   "execution_count": 107,
   "metadata": {
    "pycharm": {
     "name": "#%%\n"
    }
   },
   "outputs": [
    {
     "data": {
      "text/plain": [
       "4"
      ]
     },
     "execution_count": 107,
     "metadata": {},
     "output_type": "execute_result"
    }
   ],
   "source": [
    "# Podemos elevarlo al cuadrado\n",
    "\n",
    "dos ** 2"
   ]
  },
  {
   "cell_type": "code",
   "execution_count": 108,
   "metadata": {
    "pycharm": {
     "name": "#%%\n"
    }
   },
   "outputs": [
    {
     "data": {
      "text/plain": [
       "1.4142135623730951"
      ]
     },
     "execution_count": 108,
     "metadata": {},
     "output_type": "execute_result"
    }
   ],
   "source": [
    "# Podemos hacer la raíz cuadrada (la raíz cuadrada es elevar un número a 0.5)\n",
    "\n",
    "dos ** (1/2)"
   ]
  },
  {
   "cell_type": "code",
   "execution_count": 111,
   "metadata": {
    "pycharm": {
     "name": "#%%\n"
    }
   },
   "outputs": [
    {
     "data": {
      "text/plain": [
       "1"
      ]
     },
     "execution_count": 111,
     "metadata": {},
     "output_type": "execute_result"
    }
   ],
   "source": [
    "# Otro tipo de operaciones que podemos hacer son la división entera (es decir no incluiremos los decimales)\n",
    "# Se declara mediante //\n",
    "\n",
    "3//2"
   ]
  },
  {
   "cell_type": "code",
   "execution_count": 113,
   "metadata": {
    "pycharm": {
     "name": "#%%\n"
    }
   },
   "outputs": [
    {
     "data": {
      "text/plain": [
       "1"
      ]
     },
     "execution_count": 113,
     "metadata": {},
     "output_type": "execute_result"
    }
   ],
   "source": [
    "# También podemos obtener el módulo de una división (es el resto de una división) con el símbolo %\n",
    "5%2"
   ]
  },
  {
   "cell_type": "markdown",
   "metadata": {
    "pycharm": {
     "name": "#%% md\n"
    }
   },
   "source": [
    "### Floats"
   ]
  },
  {
   "cell_type": "markdown",
   "metadata": {
    "pycharm": {
     "name": "#%% md\n"
    }
   },
   "source": [
    "Los floats son aquellos números decimales, y tienen las mismas propiedades que hemos descrito con los integers"
   ]
  },
  {
   "cell_type": "code",
   "execution_count": 6,
   "metadata": {
    "pycharm": {
     "name": "#%%\n"
    }
   },
   "outputs": [
    {
     "data": {
      "text/plain": "1.5"
     },
     "execution_count": 6,
     "metadata": {},
     "output_type": "execute_result"
    }
   ],
   "source": [
    "# Un ejemplo de float\n",
    "1.5"
   ]
  },
  {
   "cell_type": "code",
   "execution_count": 5,
   "metadata": {
    "pycharm": {
     "name": "#%%\n"
    }
   },
   "outputs": [
    {
     "data": {
      "text/plain": "0.14285714285714285"
     },
     "execution_count": 5,
     "metadata": {},
     "output_type": "execute_result"
    }
   ],
   "source": [
    "# Otro ejemplo de float\n",
    "1/7"
   ]
  },
  {
   "cell_type": "code",
   "execution_count": 7,
   "metadata": {
    "pycharm": {
     "name": "#%%\n"
    }
   },
   "outputs": [
    {
     "data": {
      "text/plain": "(8.659560562354934e-17+1.4142135623730951j)"
     },
     "execution_count": 7,
     "metadata": {},
     "output_type": "execute_result"
    }
   ],
   "source": [
    "# También se puede trabajar con números imaginarios\n",
    "\n",
    "(-2) ** (1/2)"
   ]
  },
  {
   "cell_type": "markdown",
   "metadata": {
    "pycharm": {
     "name": "#%% md\n"
    }
   },
   "source": [
    "### Booleanos"
   ]
  },
  {
   "cell_type": "markdown",
   "metadata": {
    "pycharm": {
     "name": "#%% md\n"
    }
   },
   "source": [
    "\n",
    "Básicamente, los booleanos son elementos de la lógica como verdadero (`True`) y falso (`False`). Reciben su nombre por [George Boole](https://en.wikipedia.org/wiki/George_Boole), creador del álgebra de la lógica formal."
   ]
  },
  {
   "cell_type": "code",
   "execution_count": 8,
   "metadata": {
    "pycharm": {
     "name": "#%%\n"
    }
   },
   "outputs": [],
   "source": [
    "# Es necesario declarar un booleano con sus caracteres, sin comillas y empezando en mayúscula\n",
    "\n",
    "verdad = True\n",
    "# true (esto no es valido)\n",
    "# TRUE (esto tampoco es válido)"
   ]
  },
  {
   "cell_type": "code",
   "execution_count": 142,
   "metadata": {
    "pycharm": {
     "name": "#%%\n"
    }
   },
   "outputs": [],
   "source": [
    "# En falso también ocurre lo mismo\n",
    "\n",
    "falso = False\n",
    "# false (esto no es válido)\n",
    "# FALSE (esto tampoco es válido)"
   ]
  },
  {
   "cell_type": "markdown",
   "metadata": {
    "pycharm": {
     "name": "#%% md\n"
    }
   },
   "source": [
    "Los booleanos también tienen sus propias operaciones como puede ser `y` (adición), `o` (disyunción) y negación"
   ]
  },
  {
   "cell_type": "code",
   "execution_count": 143,
   "metadata": {
    "pycharm": {
     "name": "#%%\n"
    }
   },
   "outputs": [
    {
     "data": {
      "text/plain": [
       "False"
      ]
     },
     "execution_count": 143,
     "metadata": {},
     "output_type": "execute_result"
    }
   ],
   "source": [
    "# Por ejemplo si queremos añadir dos elementos usamos la cláusula and\n",
    "\n",
    "falso and verdad"
   ]
  },
  {
   "cell_type": "code",
   "execution_count": 144,
   "metadata": {
    "pycharm": {
     "name": "#%%\n"
    }
   },
   "outputs": [
    {
     "data": {
      "text/plain": [
       "True"
      ]
     },
     "execution_count": 144,
     "metadata": {},
     "output_type": "execute_result"
    }
   ],
   "source": [
    "# Si queremos saber qué ocurre si uno de los dos es verdadero usamos la cláusula or\n",
    "\n",
    "falso or verdad"
   ]
  },
  {
   "cell_type": "code",
   "execution_count": 145,
   "metadata": {
    "pycharm": {
     "name": "#%%\n"
    }
   },
   "outputs": [
    {
     "data": {
      "text/plain": [
       "False"
      ]
     },
     "execution_count": 145,
     "metadata": {},
     "output_type": "execute_result"
    }
   ],
   "source": [
    "# Si queremos negar un elemento\n",
    "\n",
    "not True"
   ]
  },
  {
   "cell_type": "code",
   "execution_count": 146,
   "metadata": {
    "pycharm": {
     "name": "#%%\n"
    }
   },
   "outputs": [
    {
     "data": {
      "text/plain": [
       "True"
      ]
     },
     "execution_count": 146,
     "metadata": {},
     "output_type": "execute_result"
    }
   ],
   "source": [
    "# Para comprobar si algo es igual usamos el doble = (==).\n",
    "# No hay que confundirlo con el igual simple, que asigna una variable a otra\n",
    "\n",
    "True == True"
   ]
  },
  {
   "cell_type": "code",
   "execution_count": 147,
   "metadata": {
    "pycharm": {
     "name": "#%%\n"
    }
   },
   "outputs": [
    {
     "data": {
      "text/plain": [
       "False"
      ]
     },
     "execution_count": 147,
     "metadata": {},
     "output_type": "execute_result"
    }
   ],
   "source": [
    "# En cambio, como verdadero es distinto de falso nos devuelve el valor de falso\n",
    "\n",
    "True == False"
   ]
  },
  {
   "cell_type": "code",
   "execution_count": 148,
   "metadata": {
    "pycharm": {
     "name": "#%%\n"
    }
   },
   "outputs": [
    {
     "data": {
      "text/plain": [
       "True"
      ]
     },
     "execution_count": 148,
     "metadata": {},
     "output_type": "execute_result"
    }
   ],
   "source": [
    "# Si queremos saber si algo es distinto usamos el signo !=\n",
    "\n",
    "True != False"
   ]
  },
  {
   "cell_type": "markdown",
   "metadata": {
    "pycharm": {
     "name": "#%% md\n"
    }
   },
   "source": [
    "### String"
   ]
  },
  {
   "cell_type": "markdown",
   "metadata": {
    "pycharm": {
     "name": "#%% md\n"
    }
   },
   "source": [
    "Los string son cualquier elemento de texto que esté en Python. Para declarar un string siempre hay que indicarle a Python esto iniciandolo con las comillas simples (podemos usar `\"` o `'`). Puedes encontrar el símbolo `\"` si presionas `shift`+`2`. El símbolo `'` lo puedes encontrar si presionas la tecla en la que está la interrogación. \n",
    "\n",
    "Los strings pueden ser del tamaño que quieras y pueden tener los símbolos que quieras"
   ]
  },
  {
   "cell_type": "code",
   "execution_count": 9,
   "metadata": {
    "pycharm": {
     "name": "#%%\n"
    }
   },
   "outputs": [
    {
     "data": {
      "text/plain": [
       "'Casa'"
      ]
     },
     "execution_count": 9,
     "metadata": {},
     "output_type": "execute_result"
    }
   ],
   "source": [
    "# Un ejemplo de string\n",
    "\"Casa\""
   ]
  },
  {
   "cell_type": "code",
   "execution_count": 114,
   "metadata": {
    "pycharm": {
     "name": "#%%\n"
    }
   },
   "outputs": [],
   "source": [
    "# Otro ejemplo de string. Dentro del string pueden ir los símbolos que deseemos\n",
    "\n",
    "quijote=\"En un lugar de la mancha de cuyo nombre no quiero acordarme había un hidalgo de los de lanza en astillero\""
   ]
  },
  {
   "cell_type": "code",
   "execution_count": 9,
   "metadata": {
    "pycharm": {
     "name": "#%%\n"
    }
   },
   "outputs": [
    {
     "name": "stderr",
     "output_type": "stream",
     "text": [
      "  File \"<stdin>\", line 2\n",
      "    Jose y Francisco comen patatas fritas\n",
      "         ^\n",
      "SyntaxError: invalid syntax\n"
     ]
    }
   ],
   "source": [
    "# Esta línea sirve para que el script se ejecute de forma adecuada\n",
    "%%script python --no-raise-error\n",
    "\n",
    "# Es un error no comenzar a declarar un string sin poner las comillas, porque Python interpreta que es una variable\n",
    "Jose y Francisco comen patatas fritas"
   ]
  },
  {
   "cell_type": "code",
   "execution_count": 170,
   "metadata": {
    "pycharm": {
     "name": "#%%\n"
    }
   },
   "outputs": [
    {
     "data": {
      "text/plain": [
       "'en un lugar de la ma'"
      ]
     },
     "execution_count": 170,
     "metadata": {},
     "output_type": "execute_result"
    }
   ],
   "source": [
    "# Podemos seleccionar fragmentos del string, por ejemplo las primeras 20 letras\n",
    "\n",
    "quijote[0:20]"
   ]
  },
  {
   "cell_type": "markdown",
   "metadata": {
    "pycharm": {
     "name": "#%% md\n"
    }
   },
   "source": [
    "#### Métodos para dar formato a un string"
   ]
  },
  {
   "cell_type": "markdown",
   "metadata": {
    "pycharm": {
     "name": "#%% md\n"
    }
   },
   "source": [
    "Podemos realizar múltiples operaciones con los diferentes string. Tenéis algunas de las funciones más usadas en la presentación. "
   ]
  },
  {
   "cell_type": "code",
   "execution_count": 119,
   "metadata": {
    "pycharm": {
     "name": "#%%\n"
    }
   },
   "outputs": [
    {
     "name": "stdout",
     "output_type": "stream",
     "text": [
      "EN UN LUGAR DE LA MANCHA DE CUYO NOMBRE NO QUIERO ACORDARME HABÍA UN HIDALGO DE LOS DE LANZA EN ASTILLERO\n"
     ]
    }
   ],
   "source": [
    "# Convirtiendo en mayúsculas\n",
    "\n",
    "print(quijote.upper())"
   ]
  },
  {
   "cell_type": "code",
   "execution_count": 118,
   "metadata": {
    "pycharm": {
     "name": "#%%\n"
    }
   },
   "outputs": [
    {
     "name": "stdout",
     "output_type": "stream",
     "text": [
      "En un lugar de la mancha de cuyo nombre no quiero acordarme había un hidalgo de los de lanza en astillero\n"
     ]
    }
   ],
   "source": [
    "# Si no guardamos los cambios en una variable, no se modificará el texto\n",
    "print(quijote)"
   ]
  },
  {
   "cell_type": "code",
   "execution_count": 174,
   "metadata": {
    "pycharm": {
     "name": "#%%\n"
    }
   },
   "outputs": [
    {
     "name": "stdout",
     "output_type": "stream",
     "text": [
      "en un lugar de la mancha de cuyo nombre no quiero acordarme había un hidalgo de los de lanza en astillero\n",
      "En un lugar de la mancha de cuyo nombre no quiero acordarme había un hidalgo de los de lanza en astillero\n"
     ]
    }
   ],
   "source": [
    "# Convirtiendo a minúsculas todo y guardandolo\n",
    "\n",
    "quijote = quijote.lower()\n",
    "print(quijote)\n",
    "\n",
    "# Volvemos a convertir la primera letra en mayúsculas\n",
    "quijote = quijote.capitalize()"
   ]
  },
  {
   "cell_type": "code",
   "execution_count": 124,
   "metadata": {
    "pycharm": {
     "name": "#%%\n"
    }
   },
   "outputs": [
    {
     "data": {
      "text/plain": [
       "'eN uN lUGAR dE lA mANCHA dE cUYO nOMBRE nO qUIERO aCORDARME hABÍA uN hIDALGO dE lOS dE lANZA eN aSTILLERO'"
      ]
     },
     "execution_count": 124,
     "metadata": {},
     "output_type": "execute_result"
    }
   ],
   "source": [
    "# Podemos aplicar varios métodos a la vez\n",
    "# (por ejemplo si queremos darle a nuestro texto una estética fotolog años 2000 podemos aplicar \n",
    "# el método .title() que hace mayúsculas cada palabra y el método .swapcase() que invierte\n",
    "# las minúsculas y las mayúsculas del texto\n",
    "\n",
    "quijote.title().swapcase()"
   ]
  },
  {
   "cell_type": "code",
   "execution_count": 132,
   "metadata": {
    "pycharm": {
     "name": "#%%\n"
    }
   },
   "outputs": [
    {
     "name": "stdout",
     "output_type": "stream",
     "text": [
      "------------------------------------Centrado------------------------------------\n",
      "************************************Centrado************************************\n",
      "rrrrrrrrrrrrrrrrrrrrrrrrrrrrrrrrrrrrCentradorrrrrrrrrrrrrrrrrrrrrrrrrrrrrrrrrrrr\n"
     ]
    }
   ],
   "source": [
    "# Podemos añadir a un string elementos, por ejemplo con el método center\n",
    "# en primer lugar especificamos el número de caracteres totales que queremos que tenga el string\n",
    "# después con qué string queremos rellenarlo\n",
    "\n",
    "print(\"Centrado\".center(80, \"-\"))\n",
    "print(\"Centrado\".center(80, \"*\"))\n",
    "print(\"Centrado\".center(80, \"r\"))"
   ]
  },
  {
   "cell_type": "code",
   "execution_count": 135,
   "metadata": {
    "pycharm": {
     "name": "#%%\n"
    }
   },
   "outputs": [
    {
     "data": {
      "text/plain": [
       "'00000000000000000000000000000000000000000000002344'"
      ]
     },
     "execution_count": 135,
     "metadata": {},
     "output_type": "execute_result"
    }
   ],
   "source": [
    "# Podemos añadir 0 a la izquierda\n",
    "\n",
    "numero=\"2344\".zfill(50)\n",
    "numero"
   ]
  },
  {
   "cell_type": "code",
   "execution_count": 136,
   "metadata": {
    "pycharm": {
     "name": "#%%\n"
    }
   },
   "outputs": [
    {
     "ename": "TypeError",
     "evalue": "can only concatenate str (not \"int\") to str",
     "output_type": "error",
     "traceback": [
      "\u001B[0;31m---------------------------------------------------------------------------\u001B[0m",
      "\u001B[0;31mTypeError\u001B[0m                                 Traceback (most recent call last)",
      "\u001B[0;32m<ipython-input-136-2ef1b516d866>\u001B[0m in \u001B[0;36m<module>\u001B[0;34m\u001B[0m\n\u001B[1;32m      2\u001B[0m \u001B[0;31m# Si intentamos hacer alguna operación obtendremos un error\u001B[0m\u001B[0;34m\u001B[0m\u001B[0;34m\u001B[0m\u001B[0;34m\u001B[0m\u001B[0m\n\u001B[1;32m      3\u001B[0m \u001B[0;34m\u001B[0m\u001B[0m\n\u001B[0;32m----> 4\u001B[0;31m \u001B[0mnumero\u001B[0m \u001B[0;34m+\u001B[0m \u001B[0;36m5\u001B[0m\u001B[0;34m\u001B[0m\u001B[0;34m\u001B[0m\u001B[0m\n\u001B[0m",
      "\u001B[0;31mTypeError\u001B[0m: can only concatenate str (not \"int\") to str"
     ]
    }
   ],
   "source": [
    "# Sin embargo el número anterior no es realmente un número para python.\n",
    "# Si intentamos hacer alguna operación obtendremos un error\n",
    "\n",
    "numero + 5"
   ]
  },
  {
   "cell_type": "code",
   "execution_count": 151,
   "metadata": {
    "pycharm": {
     "name": "#%%\n"
    }
   },
   "outputs": [
    {
     "data": {
      "text/plain": [
       "2354"
      ]
     },
     "execution_count": 151,
     "metadata": {},
     "output_type": "execute_result"
    }
   ],
   "source": [
    "# Podemos no obstante, transformar el string en un número con el método int()\n",
    "\n",
    "numero = int(numero) + 5\n",
    "numero"
   ]
  },
  {
   "cell_type": "markdown",
   "metadata": {
    "pycharm": {
     "name": "#%% md\n"
    }
   },
   "source": [
    "Existen múltiples métodos de transformación;\n",
    "\n",
    "* La función `int()` transforma cualquier número en un integer. Las letras no se pueden transformar en integers, logicamente\n",
    "* La función `float()` lo transforma en un float. Las letras no pueden ser transformadas en floats\n",
    "* La función `tuple()` lo transforma en una tupla (ver más adelante)\n",
    "* La funcion `str()` lo transforma en un string\n",
    "* La funcion `list()` transforma en una lista (ver más adelante)"
   ]
  },
  {
   "cell_type": "code",
   "execution_count": 155,
   "metadata": {
    "pycharm": {
     "name": "#%%\n"
    }
   },
   "outputs": [
    {
     "name": "stdout",
     "output_type": "stream",
     "text": [
      "235400\n",
      "002354\n"
     ]
    }
   ],
   "source": [
    "# Podemos convertir el número anterior en un string de nuevo y aplicar los métodos de los string\n",
    "# Podemos añadir a la izquierda con el método ljust(numero de caracteres, caracter para completar)\n",
    "# Podemos añadir a la derecha con el método rjust\n",
    "\n",
    "print(str(numero).ljust(6,\"0\"))\n",
    "print(str(numero).rjust(6,\"0\"))"
   ]
  },
  {
   "cell_type": "markdown",
   "metadata": {
    "pycharm": {
     "name": "#%% md\n"
    }
   },
   "source": [
    "#### Métodos para buscar en un string"
   ]
  },
  {
   "cell_type": "code",
   "execution_count": 159,
   "metadata": {
    "pycharm": {
     "name": "#%%\n"
    }
   },
   "outputs": [
    {
     "name": "stdout",
     "output_type": "stream",
     "text": [
      "12\n"
     ]
    }
   ],
   "source": [
    "# Podemos contar el número de apariciones, por ejemplo de a\n",
    "\n",
    "print(quijote.count(\"a\"))"
   ]
  },
  {
   "cell_type": "code",
   "execution_count": 162,
   "metadata": {
    "pycharm": {
     "name": "#%%\n"
    }
   },
   "outputs": [
    {
     "name": "stdout",
     "output_type": "stream",
     "text": [
      "en un lugar de la mancha de cuyo nombre no quiero acordarme había un hidalgo de los de lanza en astillero\n"
     ]
    }
   ],
   "source": [
    "# Si lo que realmente es saber la longitud de un string usamos la función len()\n",
    "# Esta funcion sirve para cualquier objeto y nos devuelve su longitud\n",
    "\n",
    "len(quijote)"
   ]
  },
  {
   "cell_type": "code",
   "execution_count": 167,
   "metadata": {
    "pycharm": {
     "name": "#%%\n"
    }
   },
   "outputs": [
    {
     "data": {
      "text/plain": [
       "18"
      ]
     },
     "execution_count": 167,
     "metadata": {},
     "output_type": "execute_result"
    }
   ],
   "source": [
    "# Si queremos conocer donde se encuentra un elemento podemos usar el método index\n",
    "# que devuelve la posicion (comenzando por el 0) en la que se encuentra la palaba\n",
    "# se debe especificar entre qué posiciones debe buscar\n",
    "\n",
    "# A continuacion buscaremos en el texto que hemos guardado como variable llamada quijote, \n",
    "# mediante el método .index, la palabra mancha, desde el elemento 0 al final del texto (string)\n",
    "\n",
    "quijote.index(\"mancha\", 0,len(quijote))"
   ]
  },
  {
   "cell_type": "code",
   "execution_count": 168,
   "metadata": {
    "pycharm": {
     "name": "#%%\n"
    }
   },
   "outputs": [
    {
     "name": "stdout",
     "output_type": "stream",
     "text": [
      "9\n"
     ]
    }
   ],
   "source": [
    "# El método anterior nos devuelve solamente la primera ocurrencia del string buscado\n",
    "# para poder buscar multiples ocurrencias tenemos que usar librerías más avanzadas como re\n",
    "# que salen fuera del contenido de este curso, pero si queréis podéis encontrar más información en internet\n",
    "\n",
    "print(quijote.index(\"a\", 0, len(quijote)))"
   ]
  },
  {
   "cell_type": "code",
   "execution_count": 177,
   "metadata": {
    "pycharm": {
     "name": "#%%\n"
    }
   },
   "outputs": [
    {
     "name": "stdout",
     "output_type": "stream",
     "text": [
      "True\n",
      "False\n"
     ]
    }
   ],
   "source": [
    "# También podemos validar si un string empieza o termina por un determinado elemento\n",
    "\n",
    "print(quijote.startswith(\"En un lugar\"))\n",
    "\n",
    "# Tambien podemos ver si el texto termina por un elemento. Como sabemos \n",
    "\n",
    "print(quijote.endswith(\"y han de caer del todo, sin duda alguna. Vale.\"))"
   ]
  },
  {
   "cell_type": "code",
   "execution_count": 186,
   "metadata": {
    "pycharm": {
     "name": "#%%\n"
    }
   },
   "outputs": [
    {
     "name": "stdout",
     "output_type": "stream",
     "text": [
      "True\n",
      "False\n",
      "True\n",
      "True\n"
     ]
    }
   ],
   "source": [
    "# Podemos comprobar si un string solo contiene letras\n",
    "print(\"Blabala\".isalpha())\n",
    "\n",
    "# Si está todo en minúsculas\n",
    "print(\"Blablaba\".islower())\n",
    "\n",
    "# Si está todo en mayúsculas\n",
    "print(\"HOLA\".isupper())\n",
    "\n",
    "# Si es solo numeros\n",
    "print(\"23333\".isdigit())"
   ]
  },
  {
   "cell_type": "code",
   "execution_count": 187,
   "metadata": {
    "pycharm": {
     "name": "#%%\n"
    }
   },
   "outputs": [
    {
     "name": "stdout",
     "output_type": "stream",
     "text": [
      "Hola Juan como estás? Yo tengo 45 años\n"
     ]
    }
   ],
   "source": [
    "# También podemos sustituir de forma dinámica en un string e imprimirlo añadiendo la cláusula f delante de las\n",
    "# comillas\n",
    "\n",
    "nombre = \"Juan\"\n",
    "edad = 45\n",
    "\n",
    "print(f\"Hola {nombre} ¿como estás? Yo tengo {edad} años\")"
   ]
  },
  {
   "cell_type": "code",
   "execution_count": 188,
   "metadata": {
    "pycharm": {
     "name": "#%%\n"
    }
   },
   "outputs": [
    {
     "name": "stdout",
     "output_type": "stream",
     "text": [
      "Hola John ¿Cómo estas? Yo tengo 15 años\n"
     ]
    }
   ],
   "source": [
    "# Otro método para realizar lo mismo\n",
    "\n",
    "print(\"Hola {name} ¿Cómo estas? Yo tengo {age} años\".format(name=\"John\", age=15) )"
   ]
  },
  {
   "cell_type": "markdown",
   "metadata": {
    "pycharm": {
     "name": "#%% md\n"
    }
   },
   "source": [
    "### Tuplas"
   ]
  },
  {
   "cell_type": "markdown",
   "metadata": {
    "pycharm": {
     "name": "#%% md\n"
    }
   },
   "source": [
    "Las tuplas son listas de elementos, ordenados e **inmutables**. Esto quiere decir que en las tuplas los elementos no se pueden modificar"
   ]
  },
  {
   "cell_type": "code",
   "execution_count": 190,
   "metadata": {
    "pycharm": {
     "name": "#%%\n"
    }
   },
   "outputs": [
    {
     "data": {
      "text/plain": [
       "('Arroz', 'Pimientos', 'Tomates', 'Azafrán')"
      ]
     },
     "execution_count": 190,
     "metadata": {},
     "output_type": "execute_result"
    }
   ],
   "source": [
    "# Las tuplas son elementos ordenados, se declaran con el paréntesis normal ()\n",
    "# Tienen el inconveniente de que su orden no se puede modificar\n",
    "\n",
    "compra = (\"Arroz\", \"Pimientos\", \"Tomates\", \"Azafrán\")\n",
    "compra"
   ]
  },
  {
   "cell_type": "code",
   "execution_count": 26,
   "metadata": {
    "pycharm": {
     "name": "#%%\n"
    }
   },
   "outputs": [
    {
     "data": {
      "text/plain": [
       "'Arroz'"
      ]
     },
     "execution_count": 26,
     "metadata": {},
     "output_type": "execute_result"
    }
   ],
   "source": [
    "# Si queremos seleccionar un elemento de la lista. Los elementos van desde el 0 (primer elemento, al n). \n",
    "\n",
    "compra[0]"
   ]
  },
  {
   "cell_type": "code",
   "execution_count": 25,
   "metadata": {
    "pycharm": {
     "name": "#%%\n"
    }
   },
   "outputs": [
    {
     "data": {
      "text/plain": [
       "'Tomates'"
      ]
     },
     "execution_count": 25,
     "metadata": {},
     "output_type": "execute_result"
    }
   ],
   "source": [
    "# Si queremos seleccionar los elementos desde el último lo hacemos con el signo menos delante\n",
    "# Por ejemplo si queremos seleccionar el penúltimo\n",
    "\n",
    "compra[-2]"
   ]
  },
  {
   "cell_type": "code",
   "execution_count": 30,
   "metadata": {
    "pycharm": {
     "name": "#%%\n"
    }
   },
   "outputs": [
    {
     "data": {
      "text/plain": [
       "('Pimientos', 'Tomates')"
      ]
     },
     "execution_count": 30,
     "metadata": {},
     "output_type": "execute_result"
    }
   ],
   "source": [
    "# Podemos seleccionar varios elementos de la tupla a la vez\n",
    "# Por ejemplo desde la posicion 2 a la 4\n",
    "\n",
    "compra[1:3]"
   ]
  },
  {
   "cell_type": "code",
   "execution_count": 192,
   "metadata": {
    "pycharm": {
     "name": "#%%\n"
    }
   },
   "outputs": [
    {
     "data": {
      "text/plain": [
       "('Tomates', 'Azafrán')"
      ]
     },
     "execution_count": 192,
     "metadata": {},
     "output_type": "execute_result"
    }
   ],
   "source": [
    "# Si queremos que sean hasta el final ponemos doble punto pero sin especificar el final\n",
    "\n",
    "compra[2:]"
   ]
  },
  {
   "cell_type": "code",
   "execution_count": 19,
   "metadata": {
    "pycharm": {
     "name": "#%%\n"
    }
   },
   "outputs": [
    {
     "ename": "TypeError",
     "evalue": "'tuple' object does not support item assignment",
     "output_type": "error",
     "traceback": [
      "\u001B[0;31m---------------------------------------------------------------------------\u001B[0m",
      "\u001B[0;31mTypeError\u001B[0m                                 Traceback (most recent call last)",
      "\u001B[0;32m<ipython-input-19-dc8db20bfa12>\u001B[0m in \u001B[0;36m<module>\u001B[0;34m\u001B[0m\n\u001B[1;32m      1\u001B[0m \u001B[0;31m# Si por ejemplo queremos modificar la lista no podremos hacerlo\u001B[0m\u001B[0;34m\u001B[0m\u001B[0;34m\u001B[0m\u001B[0;34m\u001B[0m\u001B[0m\n\u001B[0;32m----> 2\u001B[0;31m \u001B[0mcompra\u001B[0m\u001B[0;34m[\u001B[0m\u001B[0;36m1\u001B[0m\u001B[0;34m]\u001B[0m \u001B[0;34m=\u001B[0m \u001B[0;34m\"\"\u001B[0m\u001B[0;34m\u001B[0m\u001B[0;34m\u001B[0m\u001B[0m\n\u001B[0m",
      "\u001B[0;31mTypeError\u001B[0m: 'tuple' object does not support item assignment"
     ]
    }
   ],
   "source": [
    "# Si por ejemplo queremos modificar la lista no podremos hacerlo\n",
    "\n",
    "compra[1] = \"\""
   ]
  },
  {
   "cell_type": "code",
   "execution_count": 48,
   "metadata": {
    "pycharm": {
     "name": "#%%\n"
    }
   },
   "outputs": [
    {
     "data": {
      "text/plain": [
       "('Arroz', 'Pimientos', 'Tomates', 'Azafrán', 'manzana')"
      ]
     },
     "execution_count": 48,
     "metadata": {},
     "output_type": "execute_result"
    }
   ],
   "source": [
    "# Tampoco en teoria se pueden añadir nuevos elementos a una tupla\n",
    "# Sin embargo se pueden concaternar 2 tuplas. Para que python reconozca que es otra tupla hay que añadir \n",
    "# una coma despues, de lo contrario lo interpretará como un string\n",
    "\n",
    "compra + (\"Manzanas\",)"
   ]
  },
  {
   "cell_type": "code",
   "execution_count": 23,
   "metadata": {
    "pycharm": {
     "name": "#%%\n"
    }
   },
   "outputs": [
    {
     "data": {
      "text/plain": [
       "(1, 2)"
      ]
     },
     "execution_count": 23,
     "metadata": {},
     "output_type": "execute_result"
    }
   ],
   "source": [
    "# Las tuplas pueden ser de lo que nosotros queramos que sean\n",
    "\n",
    "numeros = (1,4,3)\n",
    "cifras_y_letras = (1, \"casa\", \"Perro\", 1.4, (1,2))\n",
    "\n",
    "# Pueden haber tuplas dentro de otras tuplas. \n",
    "\n",
    "cifras_y_letras[-1]"
   ]
  },
  {
   "cell_type": "markdown",
   "metadata": {
    "pycharm": {
     "name": "#%% md\n"
    }
   },
   "source": [
    "## Listas\n",
    "\n",
    "Las listas, al contrario que las tuplas son conjuntos de diferentes elementos que sí que son mutables, por lo que las podemos modificar. Además constan de múltiples métodos "
   ]
  },
  {
   "cell_type": "code",
   "execution_count": 196,
   "metadata": {
    "pycharm": {
     "name": "#%%\n"
    }
   },
   "outputs": [
    {
     "data": {
      "text/plain": [
       "['Fiat', 'Peugeot', 'Mercedes', 'BMW', 'Toyota']"
      ]
     },
     "execution_count": 196,
     "metadata": {},
     "output_type": "execute_result"
    }
   ],
   "source": [
    "# Las listas se declaran mediante los corchetes `[`\n",
    "\n",
    "coches=[\"Fiat\", \"Peugeot\", \"Mercedes\", \"BMW\", \"Toyota\"]\n",
    "coches"
   ]
  },
  {
   "cell_type": "code",
   "execution_count": 93,
   "metadata": {
    "pycharm": {
     "name": "#%%\n"
    }
   },
   "outputs": [
    {
     "data": {
      "text/plain": [
       "['Fiat', 'Peugeot', 'Mercedes']"
      ]
     },
     "execution_count": 93,
     "metadata": {},
     "output_type": "execute_result"
    }
   ],
   "source": [
    "# Podemos seleccionar los elementos que queramos tal como hicimos con las tuplas\n",
    "\n",
    "coches[:3]"
   ]
  },
  {
   "cell_type": "code",
   "execution_count": 94,
   "metadata": {
    "pycharm": {
     "name": "#%%\n"
    }
   },
   "outputs": [
    {
     "data": {
      "text/plain": [
       "['Fiat', 'Honda', 'Mercedes', 'BMW', 'Toyota']"
      ]
     },
     "execution_count": 94,
     "metadata": {},
     "output_type": "execute_result"
    }
   ],
   "source": [
    "# La diferencia es que la lista puede ser modificada\n",
    "\n",
    "coches[1] = \"Honda\"\n",
    "coches"
   ]
  },
  {
   "cell_type": "markdown",
   "metadata": {
    "pycharm": {
     "name": "#%% md\n"
    }
   },
   "source": [
    "#### Añadir elementos a una lista"
   ]
  },
  {
   "cell_type": "code",
   "execution_count": 95,
   "metadata": {
    "pycharm": {
     "name": "#%%\n"
    }
   },
   "outputs": [
    {
     "data": {
      "text/plain": [
       "['Fiat', 'Honda', 'Mercedes', 'BMW', 'Toyota', 'Renault']"
      ]
     },
     "execution_count": 95,
     "metadata": {},
     "output_type": "execute_result"
    }
   ],
   "source": [
    "# Podemos añadir elementos a la lista facilmente con el método append\n",
    "\n",
    "coches.append(\"Renault\")\n",
    "\n",
    "coches"
   ]
  },
  {
   "cell_type": "code",
   "execution_count": 96,
   "metadata": {
    "pycharm": {
     "name": "#%%\n"
    }
   },
   "outputs": [
    {
     "data": {
      "text/plain": [
       "['Fiat',\n",
       " 'Honda',\n",
       " 'Mercedes',\n",
       " 'BMW',\n",
       " 'Toyota',\n",
       " 'Renault',\n",
       " ('Renault Megane', 'Mini')]"
      ]
     },
     "execution_count": 96,
     "metadata": {},
     "output_type": "execute_result"
    }
   ],
   "source": [
    "# El problema del método append es que solo puede añadir un elemento\n",
    "# Una opcion sería añadir una lista dentro de la lista, pero será una sublista dentro de la lista\n",
    "\n",
    "coches.append((\"Renault Megane\", \"Mini\"))\n",
    "coches"
   ]
  },
  {
   "cell_type": "code",
   "execution_count": 197,
   "metadata": {
    "pycharm": {
     "name": "#%%\n"
    }
   },
   "outputs": [
    {
     "data": {
      "text/plain": [
       "['Fiat', 'Peugeot', 'Mercedes', 'BMW', 'Toyota', 'Renault Megane', 'Mini']"
      ]
     },
     "execution_count": 197,
     "metadata": {},
     "output_type": "execute_result"
    }
   ],
   "source": [
    "# Si realmente queremos que la lista que añadamos, podríamos usar el método extend\n",
    "\n",
    "coches.extend((\"Renault Megane\", \"Mini\"))\n",
    "coches"
   ]
  },
  {
   "cell_type": "code",
   "execution_count": 199,
   "metadata": {
    "pycharm": {
     "name": "#%%\n"
    }
   },
   "outputs": [
    {
     "data": {
      "text/plain": [
       "['Fiat',\n",
       " 'Seat',\n",
       " 'Seat',\n",
       " 'Peugeot',\n",
       " 'Mercedes',\n",
       " 'BMW',\n",
       " 'Toyota',\n",
       " 'Renault Megane',\n",
       " 'Mini']"
      ]
     },
     "execution_count": 199,
     "metadata": {},
     "output_type": "execute_result"
    }
   ],
   "source": [
    "# Podemos añadir un elemento en la posicion que queramos, pues con el método append solo \n",
    "# lo añadirá al final de la lista\n",
    "\n",
    "coches.insert(1, \"Seat\")\n",
    "coches"
   ]
  },
  {
   "cell_type": "markdown",
   "metadata": {
    "pycharm": {
     "name": "#%% md\n"
    }
   },
   "source": [
    "#### Eliminar elementos de una lista\n",
    "\n",
    "Para eliminar elementos de una lista podemos usar los métodos .remove() y .pop()"
   ]
  },
  {
   "cell_type": "code",
   "execution_count": 201,
   "metadata": {
    "pycharm": {
     "name": "#%%\n"
    }
   },
   "outputs": [
    {
     "data": {
      "text/plain": [
       "['Fiat', 'Seat', 'Peugeot', 'Mercedes', 'BMW', 'Renault Megane', 'Mini']"
      ]
     },
     "execution_count": 201,
     "metadata": {},
     "output_type": "execute_result"
    }
   ],
   "source": [
    "# También podemos eliminar elementos \n",
    "# Podemos eliminarlos sabiendo el lugar que ocupan\n",
    "\n",
    "coches.pop(2)\n",
    "coches"
   ]
  },
  {
   "cell_type": "code",
   "execution_count": 202,
   "metadata": {
    "pycharm": {
     "name": "#%%\n"
    }
   },
   "outputs": [
    {
     "data": {
      "text/plain": [
       "['Fiat', 'Seat', 'Peugeot', 'Mercedes', 'BMW', 'Renault Megane']"
      ]
     },
     "execution_count": 202,
     "metadata": {},
     "output_type": "execute_result"
    }
   ],
   "source": [
    "# Si no indicamos la posicion, el método pop elimina el último elemento\n",
    "\n",
    "coches.pop()\n",
    "coches"
   ]
  },
  {
   "cell_type": "code",
   "execution_count": 98,
   "metadata": {
    "pycharm": {
     "name": "#%%\n"
    }
   },
   "outputs": [
    {
     "data": {
      "text/plain": [
       "['Fiat', 'Mercedes', 'BMW', 'Toyota', 'Renault']"
      ]
     },
     "execution_count": 98,
     "metadata": {},
     "output_type": "execute_result"
    }
   ],
   "source": [
    "# Otra opcion es eliminarlos por el nombre\n",
    "\n",
    "coches.remove(\"Honda\")\n",
    "coches"
   ]
  },
  {
   "cell_type": "code",
   "execution_count": 99,
   "metadata": {
    "pycharm": {
     "name": "#%%\n"
    }
   },
   "outputs": [
    {
     "data": {
      "text/plain": [
       "['Fiat', 'BMW', 'Toyota', 'Renault', 'Mercedes', 'Mercedes']"
      ]
     },
     "execution_count": 99,
     "metadata": {},
     "output_type": "execute_result"
    }
   ],
   "source": [
    "# El problema de este método es que solo elimina la primera ocurrencia\n",
    "\n",
    "coches.append(\"Mercedes\")\n",
    "coches.append(\"Mercedes\")\n",
    "coches.remove(\"Mercedes\")\n",
    "\n",
    "coches"
   ]
  },
  {
   "cell_type": "code",
   "execution_count": 206,
   "metadata": {
    "pycharm": {
     "name": "#%%\n"
    }
   },
   "outputs": [
    {
     "name": "stdout",
     "output_type": "stream",
     "text": [
      "['BMW', 'Fiat', 'Mercedes', 'Peugeot', 'Renault Megane', 'Seat']\n",
      "['Seat', 'Renault Megane', 'Peugeot', 'Mercedes', 'Fiat', 'BMW']\n"
     ]
    }
   ],
   "source": [
    "# Se pueden ordenar los elementos en orden ascendente\n",
    "\n",
    "coches.sort()\n",
    "print(coches)\n",
    "\n",
    "# Se pueden ordenar en orden descendente\n",
    "\n",
    "coches.reverse()\n",
    "print(coches)"
   ]
  },
  {
   "cell_type": "markdown",
   "metadata": {
    "pycharm": {
     "name": "#%% md\n"
    }
   },
   "source": [
    "### Diccionarios\n",
    "\n",
    "Los diccionarios al igual que las listas son elementos mutables. Se declaran mediante el símbolo `{`. \n",
    "Tienen dos elementos, la clave/llave (key) y el valor (value) separados por el símbolo `:`"
   ]
  },
  {
   "cell_type": "code",
   "execution_count": 211,
   "metadata": {
    "pycharm": {
     "name": "#%%\n"
    }
   },
   "outputs": [
    {
     "data": {
      "text/plain": [
       "{'Cocina': ['Frigo', 'Lavavajillas'],\n",
       " 'Comedor': ['Television', 'Sillón'],\n",
       " 'Baño': 1,\n",
       " 'Habitación': 'Cama'}"
      ]
     },
     "execution_count": 211,
     "metadata": {},
     "output_type": "execute_result"
    }
   ],
   "source": [
    "# Los diccionarios se declaran mediante los corchetes\n",
    "# Tienen dos elementos, la clave (key) que es el primer elemento y el valor (value). \n",
    "# La clave en teoria debe ser única y no repetirse en el diccionario\n",
    "# El valor puede ser cualquier tipo de objeto permitido en Python\n",
    "\n",
    "Casa = {\"Cocina\":[\"Frigo\", \"Lavavajillas\"], \"Comedor\":[\"Television\", \"Sillón\"],\n",
    "        \"Baño\": 1, \"Habitación\": \"Cama\"}\n",
    "\n",
    "Casa"
   ]
  },
  {
   "cell_type": "code",
   "execution_count": 102,
   "metadata": {
    "pycharm": {
     "name": "#%%\n"
    }
   },
   "outputs": [
    {
     "data": {
      "text/plain": [
       "dict_keys(['Cocina', 'Comedor', 'Baño', 'Habitación'])"
      ]
     },
     "execution_count": 102,
     "metadata": {},
     "output_type": "execute_result"
    }
   ],
   "source": [
    "# Podemos acceder a la clave del diccionario (los elementos que van delante del :)\n",
    "\n",
    "Casa.keys()"
   ]
  },
  {
   "cell_type": "code",
   "execution_count": 103,
   "metadata": {
    "pycharm": {
     "name": "#%%\n"
    }
   },
   "outputs": [
    {
     "data": {
      "text/plain": [
       "dict_values([['Frigo', 'Lavavajillas'], ['Television', 'Sillón'], 1, 'Cama'])"
      ]
     },
     "execution_count": 103,
     "metadata": {},
     "output_type": "execute_result"
    }
   ],
   "source": [
    "# También podemos acceder a los valores (los elementos detras del :)\n",
    "\n",
    "Casa.values()"
   ]
  },
  {
   "cell_type": "code",
   "execution_count": 104,
   "metadata": {
    "pycharm": {
     "name": "#%%\n"
    }
   },
   "outputs": [
    {
     "data": {
      "text/plain": [
       "['Frigo', 'Lavavajillas']"
      ]
     },
     "execution_count": 104,
     "metadata": {},
     "output_type": "execute_result"
    }
   ],
   "source": [
    "# Podemos acceder a los elementos por su nombre\n",
    "\n",
    "Casa[\"Cocina\"]"
   ]
  },
  {
   "cell_type": "code",
   "execution_count": 207,
   "metadata": {
    "pycharm": {
     "name": "#%%\n"
    }
   },
   "outputs": [
    {
     "data": {
      "text/plain": [
       "['Frigo', 'Lavavajillas']"
      ]
     },
     "execution_count": 207,
     "metadata": {},
     "output_type": "execute_result"
    }
   ],
   "source": [
    "# Otra opción es con el método .get\n",
    "\n",
    "Casa.get(\"Cocina\")"
   ]
  },
  {
   "cell_type": "code",
   "execution_count": 212,
   "metadata": {
    "pycharm": {
     "name": "#%%\n"
    }
   },
   "outputs": [
    {
     "data": {
      "text/plain": [
       "['Frigo', 'Lavavajillas', 'Tostadora']"
      ]
     },
     "execution_count": 212,
     "metadata": {},
     "output_type": "execute_result"
    }
   ],
   "source": [
    "# Podemos modificar los valores del diccionario (no las claves)\n",
    "\n",
    "Casa[\"Cocina\"] = [\"Frigo\", \"Lavavajillas\", \"Tostadora\"]\n",
    "\n",
    "Casa[\"Cocina\"]"
   ]
  },
  {
   "cell_type": "code",
   "execution_count": 214,
   "metadata": {
    "pycharm": {
     "name": "#%%\n"
    }
   },
   "outputs": [
    {
     "data": {
      "text/plain": [
       "{'Cocina': ['Frigo', 'Lavavajillas', 'Tostadora'],\n",
       " 'Comedor': ['Television', 'Sillón'],\n",
       " 'Baño': 1,\n",
       " 'Habitación': 'Cama',\n",
       " 'Dormitorio': ['Cama', 'Mesilla de noche'],\n",
       " 'Terraza': 'Mesa'}"
      ]
     },
     "execution_count": 214,
     "metadata": {},
     "output_type": "execute_result"
    }
   ],
   "source": [
    "# Sin embargo sí que podemos añadir nuevas claves y valores al diccionario\n",
    "\n",
    "Casa.update({\"Dormitorio\": [\"Cama\", \"Mesilla de noche\"], \n",
    "             \"Terraza\": \"Mesa\"})\n",
    "\n",
    "Casa"
   ]
  },
  {
   "cell_type": "markdown",
   "metadata": {
    "pycharm": {
     "name": "#%% md\n"
    }
   },
   "source": [
    "## Loops\n",
    "\n",
    "Los bucles (en inglés loops) son aquellas funciones que nos permiten recorrer o iterar determinados elementos. Existen básicamente dos tipos de bucles en Python. \n",
    "\n",
    "### Bucle for\n",
    "\n",
    "El bucle for permite recorrer un número delimitado de elementos, y cuando el número de elementos acaba, el bucle se detiene"
   ]
  },
  {
   "cell_type": "code",
   "execution_count": 219,
   "metadata": {
    "pycharm": {
     "name": "#%%\n"
    }
   },
   "outputs": [
    {
     "name": "stdout",
     "output_type": "stream",
     "text": [
      "0\n",
      "1\n",
      "2\n",
      "3\n",
      "4\n",
      "5\n",
      "6\n",
      "7\n",
      "8\n",
      "9\n"
     ]
    }
   ],
   "source": [
    "# Generamos una lista mediante la funcion range\n",
    "\n",
    "lista = list(range(10))\n",
    "\n",
    "# Iteramos la lista\n",
    "\n",
    "for k in lista:\n",
    "    print(k)\n",
    "\n",
    "# Para iterar la lista generamos un iterador (en este caso k) que recorre la lista\n",
    "# k será en cada vuelta un elemento de la lista. \n",
    "# Despues añadimos el signo de : \n",
    "# Posteriormente definimos lo que queremos que se realice con cada elemento"
   ]
  },
  {
   "cell_type": "markdown",
   "metadata": {
    "pycharm": {
     "name": "#%% md\n"
    }
   },
   "source": [
    "## Bucle while\n",
    "\n",
    "Los bucles while son algo más complejos, ya que es fácil que tiendan al infinito y rompan nuestro programa. En el bucle while el programa recorre una vuelta hasta que deja de cumplirse una condición. Por ejemplo podemos poner como condicion que una variable sea positiva, o que algo sea verdadero etc"
   ]
  },
  {
   "cell_type": "code",
   "execution_count": 220,
   "metadata": {
    "pycharm": {
     "name": "#%%\n"
    }
   },
   "outputs": [
    {
     "name": "stdout",
     "output_type": "stream",
     "text": [
      "0\n",
      "1\n",
      "2\n",
      "3\n",
      "4\n",
      "5\n",
      "6\n",
      "7\n",
      "8\n",
      "9\n"
     ]
    }
   ],
   "source": [
    "# Generamos un contador\n",
    "\n",
    "a = 0\n",
    "\n",
    "while a < 10:\n",
    "    print(a)\n",
    "    # Actualizamos el valor de a, añadiendole un elemento\n",
    "    a = a + 1\n",
    "    # Esto se puede expresar también como a += 1"
   ]
  },
  {
   "cell_type": "code",
   "execution_count": 222,
   "metadata": {
    "pycharm": {
     "name": "#%%\n"
    }
   },
   "outputs": [
    {
     "name": "stdout",
     "output_type": "stream",
     "text": [
      "0\n",
      "1\n",
      "2\n",
      "3\n",
      "4\n",
      "5\n",
      "6\n",
      "7\n",
      "8\n",
      "9\n",
      "10\n"
     ]
    }
   ],
   "source": [
    "# Otro tipo de while \n",
    "\n",
    "a = 0 \n",
    "k = False\n",
    "\n",
    "while not k:\n",
    "    print (a)\n",
    "    a +=1\n",
    "    if a > 10:\n",
    "        k =True"
   ]
  },
  {
   "attachments": {
    "ifekse.png": {
     "image/png": "[encoded data removed]"
    }
   },
   "cell_type": "markdown",
   "metadata": {
    "pycharm": {
     "name": "#%% md\n"
    }
   },
   "source": [
    "## If ... else...\n",
    "\n",
    "La cláusula `if... else...` nos permite realizar un control sobre el código, imponiendo condiciones bajo las cuales nuestro segmento de código se ejecutará solamente si se cumple la condición. Para declararlo tenemos que usar la cláusula if seguida de la condición que queremos que se cumpla para que se ejecute el código posterior, terminando por `:`.\n",
    "\n",
    "\n",
    "![ifekse.png](./img/ifekse.png)\n",
    "\n",
    "Después del fragmento de código que queremos que se ejecute podemos introducir la cláusula else. Esta cláusula será la que se ejecute si la condición del if no es cierta. Por ejemplo imaginemos que queremos crear un programa que nos diga si un individuo es mayor o menor de edad. El primer paso será crear una cláusula:\n"
   ]
  },
  {
   "cell_type": "code",
   "execution_count": 1,
   "metadata": {
    "pycharm": {
     "name": "#%%\n"
    }
   },
   "outputs": [
    {
     "name": "stdout",
     "output_type": "stream",
     "text": [
      "Es menor de edad\n"
     ]
    }
   ],
   "source": [
    "edad = 12\n",
    "\n",
    "\n",
    "# La condicion que queremos que se cumpla\n",
    "if edad > 18:\n",
    "    # Lo que queremos que se ejecute si la condición se cumple\n",
    "    print(\"Es mayor de edad\")\n",
    "# En caso contrario a que la primera condicion no se cumpla\n",
    "else:\n",
    "    # Ejecutamos otro fragmento si la primera condicion no se cumple\n",
    "    print(\"Es menor de edad\")"
   ]
  },
  {
   "cell_type": "markdown",
   "metadata": {
    "pycharm": {
     "name": "#%% md\n"
    }
   },
   "source": [
    "Hay que recordar que el código que se muestra dentro de la condición debe ir indentado (esto en anaconda lo hace automático, pero es el equivalente a 4 espacios o a pulsar a la tecla tab)"
   ]
  },
  {
   "cell_type": "markdown",
   "metadata": {
    "pycharm": {
     "name": "#%% md\n"
    }
   },
   "source": [
    "También es posible anidar clausulas if dentro de otros if. Veamos un ejemplo"
   ]
  },
  {
   "cell_type": "code",
   "execution_count": 2,
   "metadata": {
    "pycharm": {
     "name": "#%%\n"
    }
   },
   "outputs": [
    {
     "name": "stdout",
     "output_type": "stream",
     "text": [
      "Él es menor de edad\n"
     ]
    }
   ],
   "source": [
    "sexo = \"V\"\n",
    "edad = 15\n",
    "\n",
    "if sexo == \"V\":\n",
    "    if edad > 18:\n",
    "        print(\"Él es mayor de edad\")\n",
    "    else:\n",
    "        print(\"Él es menor de edad\")\n",
    "else:\n",
    "    if edad > 18:\n",
    "        print(\"Ella es mayor de edad\")\n",
    "    else:\n",
    "        print(\"Ella es menor de edad\")"
   ]
  },
  {
   "cell_type": "markdown",
   "metadata": {
    "pycharm": {
     "name": "#%% md\n"
    }
   },
   "source": [
    "El fragmento de código anterior primero comprueba si el sexo es V o no, en caso de ser igual a V, comprueba la edad, que si es mayor de 18 imprime la frase \"Él es mayor de edad\", de lo contrario imprime en pantalla la frase \"El es mejor de edad\""
   ]
  },
  {
   "cell_type": "markdown",
   "metadata": {
    "pycharm": {
     "name": "#%% md\n"
    }
   },
   "source": [
    "Entonces tendríamos que encontrar esa localización en nuestro ordenador (ya sea mediante el navegador de carpetas) y poner el archivo que queremos abrir allí.\n",
    "\n",
    "Otra opción es localizar el archivo y copiar la dirección. Esto lo podemos conseguir clickando con el boton derecho sobre el archivo que queremos localizar mientras pulsamos la letra shift (flecha hacia arriba). Nos dará la opcion copiar como ruta. Ya tenemos copiada la localizacion del archivo dentro del ordenador. \n",
    "\n"
   ]
  },
  {
   "cell_type": "markdown",
   "metadata": {
    "pycharm": {
     "name": "#%% md\n"
    }
   },
   "source": [
    "## Funciones\n",
    "\n",
    "Las funciones son fragmentos de código encapsulados que se pueden llamar una y otra vez dentro del código para realizar alguna tarea. Las funciones nos permiten abreviar o hacer de forma más rápida algunas tareas. \n",
    "\n",
    "Por ejemplo podemos imaginar una función simple, como aquellas que calculan determinados parámetros, como una funcion para calcular el volumen de una esfera, o funciones más complejas en las que dependiendo de determinados parámetros puede o no hacer una tarea determinada. \n",
    "\n",
    "Las funciones en Python se declaran con la cláusula `def` seguida del nombre de la función y tras esto un paréntesis donde especificamos los argumentos que queramos que tome la definicion de la funcion. Posteriormente se introducen dos puntos. Tras esto está el cuerpo de la función, donde se realiza lo que la función tenga que hacer. Las funciones pueden o no devolver un valor. Esto es que con los argumentos que nosotros le demos a la función esta puede simplemente procesarlos y hacer algo como imprimirlos por pantalla o puede devolverlos transformados para que el usuario haga lo que quiera con ellos. Este ultimo tipo de funciones se denominan declarativas, y van marcadas por la cláusula `return` seguida del valor que queremos devolver"
   ]
  },
  {
   "cell_type": "code",
   "execution_count": 1,
   "metadata": {
    "pycharm": {
     "name": "#%%\n"
    }
   },
   "outputs": [],
   "source": [
    "# Vamos a crear una función simple, que imprima el nombre en la pantalla\n",
    "\n",
    "# Aquí definimos la función, siendo nombre el argumento\n",
    "\n",
    "def imp_nombre(nombre):\n",
    "    # Aquí especificamos lo que tiene que hacer la función con el argumento\n",
    "    # en este caso, solamente imprimir por pantalla el nombre\n",
    "\n",
    "    print(nombre)"
   ]
  },
  {
   "cell_type": "markdown",
   "metadata": {
    "pycharm": {
     "name": "#%% md\n"
    }
   },
   "source": [
    "Si simplemente ejecutamos el fragmento de código anterior veremos que no hace nada en especial, pero por dentro hemos definido la funcion, por lo que cada vez que la llamemos, hará dicha funcion."
   ]
  },
  {
   "cell_type": "code",
   "execution_count": 2,
   "metadata": {
    "pycharm": {
     "name": "#%%\n"
    }
   },
   "outputs": [
    {
     "name": "stdout",
     "output_type": "stream",
     "text": [
      "Atilano\n"
     ]
    }
   ],
   "source": [
    "# Llamamos a la función \n",
    "\n",
    "imp_nombre(\"Atilano\")"
   ]
  },
  {
   "cell_type": "markdown",
   "metadata": {
    "pycharm": {
     "name": "#%% md\n"
    }
   },
   "source": [
    "Las funciones pueden ser lo complejas que queramos, por ejemplo vamos a hacer una función declarativa que determine si un número es par o impar, sabiendo que los números pares son aquellos que al ser divididos entre 2 tienen un modulo que vale 0"
   ]
  },
  {
   "cell_type": "code",
   "execution_count": 11,
   "metadata": {
    "pycharm": {
     "name": "#%%\n"
    }
   },
   "outputs": [],
   "source": [
    "# Definimos la función\n",
    "\n",
    "def par_impar(numero):\n",
    "    \n",
    "    # Dividimos el número entre 2 obteniendo el modulo\n",
    "    modulo = numero % 2 \n",
    "    \n",
    "    # Si el modulo vale 0\n",
    "    if modulo == 0:\n",
    "        # Entonces la variable det es igual a Par\n",
    "        det = \"Par\"\n",
    "        \n",
    "    # De lo contrario\n",
    "    else:\n",
    "        # Det es igual a impar\n",
    "        det = \"Impar\"\n",
    "    \n",
    "    # Devuelve el valor de par\n",
    "    return det"
   ]
  },
  {
   "cell_type": "code",
   "execution_count": 12,
   "metadata": {
    "pycharm": {
     "name": "#%%\n"
    }
   },
   "outputs": [
    {
     "data": {
      "text/plain": [
       "'Par'"
      ]
     },
     "execution_count": 12,
     "metadata": {},
     "output_type": "execute_result"
    }
   ],
   "source": [
    "# Vamos a declarar la funcion \n",
    "par_impar(5)\n",
    "par_impar(4)"
   ]
  },
  {
   "cell_type": "markdown",
   "metadata": {
    "pycharm": {
     "name": "#%% md\n"
    }
   },
   "source": [
    "Vemos que aunque hemos llamado dos veces a la función, solo vemos en pantalla la ultima, esto es porque la función simplemente devuelve el valor, no lo imprime"
   ]
  },
  {
   "cell_type": "code",
   "execution_count": 13,
   "metadata": {
    "pycharm": {
     "name": "#%%\n"
    }
   },
   "outputs": [
    {
     "name": "stdout",
     "output_type": "stream",
     "text": [
      "Par Par\n"
     ]
    }
   ],
   "source": [
    "# Podemos asignar el valor a una variable\n",
    "num_1=par_impar(6)\n",
    "num_2=par_impar(714)\n",
    "\n",
    "# Y despues imprimir las variables\n",
    "print(num_1, num_2)"
   ]
  },
  {
   "cell_type": "code",
   "execution_count": 15,
   "metadata": {
    "pycharm": {
     "name": "#%%\n"
    }
   },
   "outputs": [
    {
     "name": "stdout",
     "output_type": "stream",
     "text": [
      "6 Par\n",
      "785 Impar\n"
     ]
    }
   ],
   "source": [
    "# Otra opcion es imprimir el resultado de la funcion directamente\n",
    "print(6, par_impar(6))\n",
    "print(785,par_impar(785))"
   ]
  },
  {
   "cell_type": "code",
   "execution_count": null,
   "metadata": {
    "pycharm": {
     "name": "#%%\n"
    }
   },
   "outputs": [],
   "source": []
  }
 ],
 "metadata": {
  "kernelspec": {
   "display_name": "Python 3",
   "language": "python",
   "name": "python3"
  },
  "language_info": {
   "codemirror_mode": {
    "name": "ipython",
    "version": 3
   },
   "file_extension": ".py",
   "mimetype": "text/x-python",
   "name": "python",
   "nbconvert_exporter": "python",
   "pygments_lexer": "ipython3",
   "version": "3.8.5"
  }
 },
 "nbformat": 4,
 "nbformat_minor": 4
}